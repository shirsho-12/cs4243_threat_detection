{
 "cells": [
  {
   "cell_type": "code",
   "execution_count": 2,
   "metadata": {},
   "outputs": [],
   "source": [
    "import torch\n",
    "from torch.utils.data import Dataset, DataLoader\n",
    "from pathlib import Path\n",
    "import numpy as np\n",
    "import cv2\n",
    "import torchvision.transforms as transforms\n",
    "from tqdm import tqdm\n",
    "import torch.nn as nn\n",
    "import torch.nn.functional as F"
   ]
  },
  {
   "cell_type": "code",
   "execution_count": 3,
   "metadata": {},
   "outputs": [
    {
     "name": "stderr",
     "output_type": "stream",
     "text": [
      "Enabling notebook extension jupyter-js-widgets/extension...\n",
      "      - Validating: ok\n"
     ]
    }
   ],
   "source": [
    "!jupyter nbextension enable --py widgetsnbextension"
   ]
  },
  {
   "cell_type": "code",
   "execution_count": 4,
   "metadata": {},
   "outputs": [],
   "source": [
    "class ThreatDataset(Dataset):\n",
    "    def __init__(self, data, loader_type='train', transforms = None):\n",
    "        self.folder_names = ['carrying', 'threat', 'normal']\n",
    "        self.data = data\n",
    "        self.transform = transforms\n",
    "    \n",
    "    def __len__(self):\n",
    "        return len(self.data)\n",
    "\n",
    "    def __getitem__(self, idx):\n",
    "        data = self.data[idx]\n",
    "        label = self.folder_names.index(data.parent.name)\n",
    "        image = cv2.imread(str(data))\n",
    "        image = cv2.cvtColor(image, cv2.COLOR_BGR2RGB)\n",
    "        if self.transform:\n",
    "            image = self.transform(image)\n",
    "        return image, label"
   ]
  },
  {
   "cell_type": "code",
   "execution_count": 5,
   "metadata": {},
   "outputs": [],
   "source": [
    "import random\n",
    "from pathlib import Path\n",
    "\n",
    "def split_data(data_dir, train_size=0.8, val_size = 0.1):\n",
    "    random.seed(1234)\n",
    "    data = Path('data').glob('*/*')\n",
    "    data = [x for x in data if x.is_file() and x.suffix != '.zip']\n",
    "    random.shuffle(data)\n",
    "    train_size = int(len(data) * train_size)\n",
    "    val_size = int(len(data) * val_size)\n",
    "    train_data = data[:train_size]\n",
    "    val_data = data[train_size:train_size+val_size]\n",
    "    test_data = data[train_size+val_size:]\n",
    "\n",
    "    return train_data, val_data, test_data\n",
    "\n",
    "\n",
    "train_data, val_data, test_data = split_data('data')"
   ]
  },
  {
   "cell_type": "code",
   "execution_count": 6,
   "metadata": {},
   "outputs": [],
   "source": [
    "train_transforms = transforms.Compose([\n",
    "    transforms.ToPILImage(),\n",
    "    transforms.Resize((224, 224)),\n",
    "    transforms.RandomHorizontalFlip(),\n",
    "    transforms.RandomRotation(10),\n",
    "    transforms.ToTensor(),\n",
    "    transforms.Normalize([0.485, 0.456, 0.406], [0.229, 0.224, 0.225])\n",
    "])\n",
    "\n",
    "val_transforms = transforms.Compose([\n",
    "    transforms.ToPILImage(),\n",
    "    transforms.Resize((224, 224)),\n",
    "    transforms.ToTensor(),\n",
    "    transforms.Normalize([0.485, 0.456, 0.406], [0.229, 0.224, 0.225])\n",
    "])\n",
    "\n",
    "test_transforms = transforms.Compose([\n",
    "    transforms.ToPILImage(),\n",
    "    transforms.Resize((224, 224)),\n",
    "    transforms.ToTensor(),\n",
    "    transforms.Normalize([0.485, 0.456, 0.406], [0.229, 0.224, 0.225])\n",
    "])\n",
    "\n",
    "transforms = {\n",
    "    'train': train_transforms,\n",
    "    'val': val_transforms,\n",
    "    'test': test_transforms\n",
    "}\n",
    "\n",
    "train_dataset = ThreatDataset(train_data, loader_type=\"train\", transforms=train_transforms)\n",
    "train_loader = DataLoader(train_dataset, batch_size=32, shuffle=True)"
   ]
  },
  {
   "cell_type": "code",
   "execution_count": 7,
   "metadata": {},
   "outputs": [],
   "source": [
    "from scripts import dataloader\n",
    "\n",
    "train_loader, val_loader, test_loader = dataloader.get_loaders()"
   ]
  },
  {
   "cell_type": "code",
   "execution_count": 14,
   "metadata": {},
   "outputs": [
    {
     "data": {
      "text/plain": [
       "tensor([1, 2, 2, 2, 2, 0, 0, 2, 1, 0, 0, 2, 1, 0, 2, 2, 0, 1, 1, 1, 2, 0, 1, 2,\n",
       "        1, 1, 0, 0, 0, 2, 1, 2])"
      ]
     },
     "execution_count": 14,
     "metadata": {},
     "output_type": "execute_result"
    }
   ],
   "source": [
    "x, y = iter(train_loader).next()\n",
    "torch.argmax(F.one_hot(y, num_classes=3), 1)"
   ]
  },
  {
   "cell_type": "code",
   "execution_count": 22,
   "metadata": {},
   "outputs": [],
   "source": [
    "# For NLLLoss, we need to use the logit distribution\n",
    "# https://discuss.pytorch.org/t/what-is-the-difference-between-nllloss-and-crossentropyloss/15553\n",
    "# The CrossEntropyLoss combines the LogSoftmax and NLLLoss in one single class\n",
    "# https://pytorch.org/docs/stable/generated/torch.nn.CrossEntropyLoss.html\n",
    "# https://pytorch.org/docs/stable/generated/torch.nn.NLLLoss.html\n",
    "\n",
    "class Trainer:\n",
    "    def __init__(self, model, optimizer, criterion, scheduler, device):\n",
    "        # The trainer uses a one-hot distribution for the labels, so we need to use the CrossEntropyLoss\n",
    "        # instead of the NLLLoss\n",
    "        # Using FCC layer as the last layer, we can try to use basic loss functions like MSE or L1\n",
    "        \n",
    "        self.model = model\n",
    "        self.optimizer = optimizer\n",
    "        self.criterion = criterion\n",
    "        self.scheduler = scheduler\n",
    "        self.best_acc = 50\n",
    "        if (device == 'cuda') and torch.cuda.is_available():\n",
    "            self.device = torch.device('cuda')\n",
    "        else:\n",
    "            self.device = torch.device('cpu')\n",
    "\n",
    "    def train(self, train_loader, val_loader, epochs=10):\n",
    "        self.model.to(self.device)\n",
    "        total = 0\n",
    "        correct = 0\n",
    "        for epoch in range(epochs):\n",
    "            print(f\"EPOCH {epoch}\")\n",
    "            self.model.train()\n",
    "            tq = tqdm(enumerate(train_loader))\n",
    "            for i, (x, y) in tq:\n",
    "                x = x.to(self.device)\n",
    "                y_label = y\n",
    "                y = F.one_hot(y, num_classes=3).to(self.device).float()\n",
    "                total += y.size(0)\n",
    "                self.optimizer.zero_grad()\n",
    "                y_pred = self.model(x)\n",
    "                loss = self.criterion(y_pred, y)\n",
    "                loss.backward()\n",
    "                self.optimizer.step()\n",
    "                \n",
    "                # Calculate Accuracy - Only for softmax/logit distributions  \n",
    "                _, predicted = torch.max(y_pred.data, 1)\n",
    "                correct += (predicted == y_label).sum().item()\n",
    "                tq.set_postfix(loss=loss.item(), acc=correct/total)\n",
    "                if i % 100 == 0:\n",
    "                    print(f'Epoch: {epoch}, Loss: {loss.item()}')\n",
    "            self.validate(val_loader)\n",
    "            print(f'Epoch: {epoch}, Accuracy: {correct/total}')\n",
    "\n",
    "    def validate(self, val_loader):\n",
    "        self.model.eval()\n",
    "        total = 0\n",
    "        correct = 0\n",
    "        with torch.no_grad():\n",
    "            tq = tqdm(enumerate(val_loader))\n",
    "            for i, (x, y) in tq:\n",
    "                x = x.to(self.device)\n",
    "                y_label = y\n",
    "                y = F.one_hot(y, num_classes=3).to(self.device).float()\n",
    "                y_pred = self.model(x)\n",
    "                loss = self.criterion(y_pred, y)\n",
    "\n",
    "                total += y.size(0)\n",
    "                _, predicted = torch.max(y_pred.data, 1)\n",
    "                print(predicted)\n",
    "                \n",
    "                correct += (predicted == y_label).sum().item()\n",
    "                if i % 100 == 0:\n",
    "                    print(f'Validation Loss: {loss.item()}')\n",
    "            print(f'Validation Accuracy: {correct/total}')\n",
    "            if correct/total > self.best_acc:\n",
    "                self.best_acc = correct/total\n",
    "                print('Saving model...')\n",
    "                torch.save(self.model.state_dict(), 'best_model.pth')\n",
    "    \n",
    "    def test(self, test_loader):\n",
    "        self.model.eval()\n",
    "        total = 0\n",
    "        correct = 0\n",
    "        with torch.no_grad():\n",
    "            for i, (x, y) in tqdm(enumerate(test_loader)):\n",
    "                x = x.to(self.device)\n",
    "                y_label = y\n",
    "                y = F.one_hot(y, num_classes=3).to(self.device).float()\n",
    "                total += y.size(0)\n",
    "                y_pred = self.model(x)\n",
    "                loss = self.criterion(y_pred, y)\n",
    "\n",
    "                _, predicted = torch.max(y_pred.data, 1)\n",
    "                correct += (predicted == y_label).sum().item()\n",
    "                if i % 100 == 0:\n",
    "                    print(f'Test Loss: {loss.item()}')\n",
    "        print(f'Accuracy: {100 * correct / total}')\n",
    "    \n",
    "    def save_model(self, path):\n",
    "        torch.save(self.model.state_dict(), path)      \n",
    "\n",
    "    def load_model(self, path):\n",
    "        self.model.load_state_dict(torch.load(path)) "
   ]
  },
  {
   "cell_type": "code",
   "execution_count": 23,
   "metadata": {},
   "outputs": [
    {
     "name": "stdout",
     "output_type": "stream",
     "text": [
      "EPOCH 0\n"
     ]
    },
    {
     "name": "stderr",
     "output_type": "stream",
     "text": [
      "1it [00:09,  9.16s/it, acc=0.406, loss=1.1]"
     ]
    },
    {
     "name": "stdout",
     "output_type": "stream",
     "text": [
      "Epoch: 0, Loss: 1.1015962362289429\n"
     ]
    },
    {
     "name": "stderr",
     "output_type": "stream",
     "text": [
      "9it [01:03,  7.02s/it, acc=0.365, loss=1.73]\n"
     ]
    },
    {
     "ename": "KeyboardInterrupt",
     "evalue": "",
     "output_type": "error",
     "traceback": [
      "\u001b[1;31m---------------------------------------------------------------------------\u001b[0m",
      "\u001b[1;31mKeyboardInterrupt\u001b[0m                         Traceback (most recent call last)",
      "\u001b[1;32mc:\\Users\\Shirshajit\\PycharmProjects\\cs4243_threat_detection\\prototyper.ipynb Cell 9\u001b[0m in \u001b[0;36m<cell line: 14>\u001b[1;34m()\u001b[0m\n\u001b[0;32m     <a href='vscode-notebook-cell:/c%3A/Users/Shirshajit/PycharmProjects/cs4243_threat_detection/prototyper.ipynb#X10sZmlsZQ%3D%3D?line=10'>11</a>\u001b[0m scheduler \u001b[39m=\u001b[39m StepLR(optimizer, step_size\u001b[39m=\u001b[39m\u001b[39m5\u001b[39m, gamma\u001b[39m=\u001b[39m\u001b[39m0.1\u001b[39m)\n\u001b[0;32m     <a href='vscode-notebook-cell:/c%3A/Users/Shirshajit/PycharmProjects/cs4243_threat_detection/prototyper.ipynb#X10sZmlsZQ%3D%3D?line=12'>13</a>\u001b[0m trainer \u001b[39m=\u001b[39m Trainer(model, optimizer, criterion, scheduler, \u001b[39m'\u001b[39m\u001b[39mcuda\u001b[39m\u001b[39m'\u001b[39m)\n\u001b[1;32m---> <a href='vscode-notebook-cell:/c%3A/Users/Shirshajit/PycharmProjects/cs4243_threat_detection/prototyper.ipynb#X10sZmlsZQ%3D%3D?line=13'>14</a>\u001b[0m trainer\u001b[39m.\u001b[39;49mtrain(train_loader, val_loader, epochs\u001b[39m=\u001b[39;49m\u001b[39m10\u001b[39;49m)\n",
      "\u001b[1;32mc:\\Users\\Shirshajit\\PycharmProjects\\cs4243_threat_detection\\prototyper.ipynb Cell 9\u001b[0m in \u001b[0;36mTrainer.train\u001b[1;34m(self, train_loader, val_loader, epochs)\u001b[0m\n\u001b[0;32m     <a href='vscode-notebook-cell:/c%3A/Users/Shirshajit/PycharmProjects/cs4243_threat_detection/prototyper.ipynb#X10sZmlsZQ%3D%3D?line=36'>37</a>\u001b[0m y_pred \u001b[39m=\u001b[39m \u001b[39mself\u001b[39m\u001b[39m.\u001b[39mmodel(x)\n\u001b[0;32m     <a href='vscode-notebook-cell:/c%3A/Users/Shirshajit/PycharmProjects/cs4243_threat_detection/prototyper.ipynb#X10sZmlsZQ%3D%3D?line=37'>38</a>\u001b[0m loss \u001b[39m=\u001b[39m \u001b[39mself\u001b[39m\u001b[39m.\u001b[39mcriterion(y_pred, y)\n\u001b[1;32m---> <a href='vscode-notebook-cell:/c%3A/Users/Shirshajit/PycharmProjects/cs4243_threat_detection/prototyper.ipynb#X10sZmlsZQ%3D%3D?line=38'>39</a>\u001b[0m loss\u001b[39m.\u001b[39;49mbackward()\n\u001b[0;32m     <a href='vscode-notebook-cell:/c%3A/Users/Shirshajit/PycharmProjects/cs4243_threat_detection/prototyper.ipynb#X10sZmlsZQ%3D%3D?line=39'>40</a>\u001b[0m \u001b[39mself\u001b[39m\u001b[39m.\u001b[39moptimizer\u001b[39m.\u001b[39mstep()\n\u001b[0;32m     <a href='vscode-notebook-cell:/c%3A/Users/Shirshajit/PycharmProjects/cs4243_threat_detection/prototyper.ipynb#X10sZmlsZQ%3D%3D?line=41'>42</a>\u001b[0m \u001b[39m# Calculate Accuracy - Only for softmax/logit distributions  \u001b[39;00m\n",
      "File \u001b[1;32mc:\\Users\\Shirshajit\\Anaconda3\\envs\\Vision\\lib\\site-packages\\torch\\_tensor.py:307\u001b[0m, in \u001b[0;36mTensor.backward\u001b[1;34m(self, gradient, retain_graph, create_graph, inputs)\u001b[0m\n\u001b[0;32m    298\u001b[0m \u001b[39mif\u001b[39;00m has_torch_function_unary(\u001b[39mself\u001b[39m):\n\u001b[0;32m    299\u001b[0m     \u001b[39mreturn\u001b[39;00m handle_torch_function(\n\u001b[0;32m    300\u001b[0m         Tensor\u001b[39m.\u001b[39mbackward,\n\u001b[0;32m    301\u001b[0m         (\u001b[39mself\u001b[39m,),\n\u001b[1;32m   (...)\u001b[0m\n\u001b[0;32m    305\u001b[0m         create_graph\u001b[39m=\u001b[39mcreate_graph,\n\u001b[0;32m    306\u001b[0m         inputs\u001b[39m=\u001b[39minputs)\n\u001b[1;32m--> 307\u001b[0m torch\u001b[39m.\u001b[39;49mautograd\u001b[39m.\u001b[39;49mbackward(\u001b[39mself\u001b[39;49m, gradient, retain_graph, create_graph, inputs\u001b[39m=\u001b[39;49minputs)\n",
      "File \u001b[1;32mc:\\Users\\Shirshajit\\Anaconda3\\envs\\Vision\\lib\\site-packages\\torch\\autograd\\__init__.py:154\u001b[0m, in \u001b[0;36mbackward\u001b[1;34m(tensors, grad_tensors, retain_graph, create_graph, grad_variables, inputs)\u001b[0m\n\u001b[0;32m    151\u001b[0m \u001b[39mif\u001b[39;00m retain_graph \u001b[39mis\u001b[39;00m \u001b[39mNone\u001b[39;00m:\n\u001b[0;32m    152\u001b[0m     retain_graph \u001b[39m=\u001b[39m create_graph\n\u001b[1;32m--> 154\u001b[0m Variable\u001b[39m.\u001b[39;49m_execution_engine\u001b[39m.\u001b[39;49mrun_backward(\n\u001b[0;32m    155\u001b[0m     tensors, grad_tensors_, retain_graph, create_graph, inputs,\n\u001b[0;32m    156\u001b[0m     allow_unreachable\u001b[39m=\u001b[39;49m\u001b[39mTrue\u001b[39;49;00m, accumulate_grad\u001b[39m=\u001b[39;49m\u001b[39mTrue\u001b[39;49;00m)\n",
      "\u001b[1;31mKeyboardInterrupt\u001b[0m: "
     ]
    }
   ],
   "source": [
    "from torchvision.models import resnet18\n",
    "from torch.optim.lr_scheduler import StepLR\n",
    "# from torch import nn\n",
    "import torch.optim as optim \n",
    "\n",
    "model = resnet18(pretrained=True)\n",
    "model.fc = nn.Linear(512, 3)\n",
    "\n",
    "optimizer = optim.Adam(model.parameters(), lr=0.001)\n",
    "criterion = nn.CrossEntropyLoss()\n",
    "scheduler = StepLR(optimizer, step_size=5, gamma=0.1)\n",
    "\n",
    "trainer = Trainer(model, optimizer, criterion, scheduler, 'cuda')\n",
    "trainer.train(train_loader, val_loader, epochs=10)\n"
   ]
  },
  {
   "cell_type": "code",
   "execution_count": null,
   "metadata": {},
   "outputs": [],
   "source": []
  }
 ],
 "metadata": {
  "kernelspec": {
   "display_name": "Python 3.9.13 ('Vision')",
   "language": "python",
   "name": "python3"
  },
  "language_info": {
   "codemirror_mode": {
    "name": "ipython",
    "version": 3
   },
   "file_extension": ".py",
   "mimetype": "text/x-python",
   "name": "python",
   "nbconvert_exporter": "python",
   "pygments_lexer": "ipython3",
   "version": "3.9.13"
  },
  "orig_nbformat": 4,
  "vscode": {
   "interpreter": {
    "hash": "fa38dedfb6664aa993a6ecbbad1c80b49362dc7a9b41f4096b0f17f364f944d3"
   }
  }
 },
 "nbformat": 4,
 "nbformat_minor": 2
}
