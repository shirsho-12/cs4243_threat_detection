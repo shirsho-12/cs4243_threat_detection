{
 "cells": [
  {
   "cell_type": "markdown",
   "metadata": {},
   "source": [
    "# ResNet-18"
   ]
  },
  {
   "cell_type": "code",
   "execution_count": 21,
   "metadata": {},
   "outputs": [],
   "source": [
    "import torch\n",
    "from torch.utils.data import Dataset, DataLoader\n",
    "from pathlib import Path\n",
    "import numpy as np\n",
    "import cv2\n",
    "import torchvision.transforms as T\n",
    "from tqdm.notebook import tqdm\n",
    "import torch.nn as nn\n",
    "import torch.nn.functional as F\n",
    "from tqdm import tqdm\n",
    "from torchvision.models import resnet18\n",
    "from torch.optim.lr_scheduler import StepLR\n",
    "import torch.optim as optim "
   ]
  },
  {
   "cell_type": "markdown",
   "metadata": {},
   "source": [
    "### Fill the path to the data directory"
   ]
  },
  {
   "cell_type": "code",
   "execution_count": 11,
   "metadata": {},
   "outputs": [],
   "source": [
    "import random \n",
    "def split_data(data_dir, train_size=0.8, val_size=0.1):\n",
    "    random.seed(1234)\n",
    "    data = Path(data_dir).glob('*/*')\n",
    "    data = [x for x in data if x.is_file() and x.suffix != '.zip']\n",
    "    random.shuffle(data)\n",
    "    train_size = int(len(data) * train_size)\n",
    "    val_size = int(len(data) * val_size)\n",
    "    train_data = data[:train_size]\n",
    "    val_data = data[train_size:train_size+val_size]\n",
    "    test_data = data[train_size+val_size:]\n",
    "\n",
    "    return train_data, val_data, test_data\n",
    "\n",
    "_, __, test_data = split_data('data')\n"
   ]
  },
  {
   "cell_type": "code",
   "execution_count": 9,
   "metadata": {},
   "outputs": [],
   "source": [
    "data_path = ''\n",
    "model_path = Path('models/')\n",
    "device = torch.device('cuda' if torch.cuda.is_available() else 'cpu')\n",
    "batch_size = 32"
   ]
  },
  {
   "cell_type": "code",
   "execution_count": 10,
   "metadata": {},
   "outputs": [],
   "source": [
    "\n",
    "def get_data(data_dir):\n",
    "    data = Path(data_dir).glob('*/*')\n",
    "    folder_names = ['carrying', 'threat', 'normal']\n",
    "    data = [x for x in data if x.is_file() and x.suffix != '.zip']\n",
    "    return data\n",
    "\n",
    "test_data = get_data(data_path)"
   ]
  },
  {
   "cell_type": "code",
   "execution_count": 12,
   "metadata": {},
   "outputs": [],
   "source": [
    "class ThreatDataset(Dataset):\n",
    "    def __init__(self, data, loader_type='train', transforms=None, color_space='rgb'):\n",
    "        self.folder_names = ['carrying', 'threat', 'normal']\n",
    "        self.data = data\n",
    "        self.color_space = color_space\n",
    "        self.transform = transforms\n",
    "\n",
    "    def __len__(self):\n",
    "        return len(self.data)\n",
    "\n",
    "    def __getitem__(self, idx):\n",
    "        data = self.data[idx]\n",
    "        label = self.folder_names.index(data.parent.name)\n",
    "        image = cv2.imread(str(data))\n",
    "        if self.color_space == 'rgb':\n",
    "            image = cv2.cvtColor(image, cv2.COLOR_BGR2RGB)\n",
    "        elif self.color_space == 'gray':\n",
    "            image = cv2.cvtColor(image, cv2.COLOR_BGR2GRAY)\n",
    "            # Need to broadcast the gray image to 3 channels\n",
    "            image = np.dstack((image, image, image))\n",
    "        elif self.color_space == 'hsv':\n",
    "            image = cv2.cvtColor(image, cv2.COLOR_BGR2HSV)\n",
    "        elif self.color_space == 'lab':\n",
    "            image = cv2.cvtColor(image, cv2.COLOR_BGR2LAB)\n",
    "        if self.transform:\n",
    "            image = self.transform(image)\n",
    "        return image, label\n",
    "\n",
    "\n",
    "test_transforms = T.Compose([\n",
    "    T.ToPILImage(),\n",
    "    T.Resize((224, 224)),\n",
    "    T.ToTensor(),\n",
    "    T.Normalize([0.485, 0.456, 0.406], [0.229, 0.224, 0.225])\n",
    "])\n",
    "\n",
    "transforms = {\n",
    "    'test': test_transforms\n",
    "}\n",
    "\n",
    "rgb_test_dataset = ThreatDataset(test_data, transforms=transforms['test'], color_space='rgb')\n",
    "hsv_test_dataset = ThreatDataset(test_data, transforms=transforms['test'], color_space='hsv')\n",
    "lab_test_dataset = ThreatDataset(test_data, transforms=transforms['test'], color_space='lab')\n",
    "gray_test_dataset = ThreatDataset(test_data, transforms=transforms['test'], color_space='gray')\n",
    "\n",
    "rgb_test_loader = DataLoader(rgb_test_dataset, batch_size=batch_size, shuffle=False)\n",
    "hsv_test_loader = DataLoader(hsv_test_dataset, batch_size=batch_size, shuffle=False)\n",
    "lab_test_loader = DataLoader(lab_test_dataset, batch_size=batch_size, shuffle=False)\n",
    "gray_test_loader = DataLoader(gray_test_dataset, batch_size=batch_size, shuffle=False)"
   ]
  },
  {
   "cell_type": "code",
   "execution_count": 13,
   "metadata": {},
   "outputs": [],
   "source": [
    "# THE TRAIN AND VALIDATE FUNCTIONS HAVE BEEN REMOVED, YOU CAN FIND THEM IN THE SCRIPTS DIRECTORY\n",
    "class Trainer:\n",
    "    def __init__(self, model, optimizer, criterion, scheduler, device):\n",
    "        # The trainer uses a one-hot distribution for the labels, so we need to use the CrossEntropyLoss\n",
    "        # instead of the NLLLoss\n",
    "        # Using FCC layer as the last layer, we can try to use basic loss functions like MSE or L1\n",
    "\n",
    "        self.model = model\n",
    "        self.optimizer = optimizer\n",
    "        self.criterion = criterion\n",
    "        self.scheduler = scheduler\n",
    "        self.best_acc = 1/3\n",
    "        self.train_acc_arr = []\n",
    "        self.val_acc_arr = []\n",
    "        self.train_losses = []\n",
    "        self.val_losses = []\n",
    "        self.test_acc = 0\n",
    "        self.test_loss = 0\n",
    "        if (device == 'cuda') and torch.cuda.is_available():\n",
    "            self.device = torch.device('cuda')\n",
    "        else:\n",
    "            self.device = torch.device('cpu')\n",
    "\n",
    "    def test(self, test_loader, name='model_final'):\n",
    "        self.model.eval()\n",
    "        total = 0\n",
    "        correct = 0\n",
    "        with torch.no_grad():\n",
    "            for i, (x, y) in tqdm(enumerate(test_loader)):\n",
    "                x = x.to(self.device)\n",
    "                y_label = y\n",
    "                y = F.one_hot(y, num_classes=3).to(self.device).float()\n",
    "                total += y.size(0)\n",
    "                y_pred = self.model(x)\n",
    "                loss = self.criterion(y_pred, y)\n",
    "\n",
    "                _, predicted = torch.max(y_pred.data, 1)\n",
    "                correct += (predicted.cpu() == y_label).sum().item()\n",
    "                if i % 100 == 0:\n",
    "                    print(f'Test Loss: {loss.item()}')\n",
    "        print(f'Accuracy: {100 * correct / total}')\n",
    "        self.test_acc = correct/total\n",
    "        self.test_loss = loss\n",
    "        # self.save_all(name=name)\n",
    "\n",
    "    def save_model(self, path):\n",
    "        torch.save(self.model.state_dict(), f'models/{path}.pth')\n",
    "\n",
    "    def load_model(self, path):\n",
    "        self.model.load_state_dict(torch.load(path))\n"
   ]
  },
  {
   "cell_type": "code",
   "execution_count": 14,
   "metadata": {},
   "outputs": [
    {
     "name": "stderr",
     "output_type": "stream",
     "text": [
      "c:\\Users\\Shirshajit\\Anaconda3\\envs\\Vision\\lib\\site-packages\\torchvision\\models\\_utils.py:208: UserWarning: The parameter 'pretrained' is deprecated since 0.13 and may be removed in the future, please use 'weights' instead.\n",
      "  warnings.warn(\n",
      "c:\\Users\\Shirshajit\\Anaconda3\\envs\\Vision\\lib\\site-packages\\torchvision\\models\\_utils.py:223: UserWarning: Arguments other than a weight enum or `None` for 'weights' are deprecated since 0.13 and may be removed in the future. The current behavior is equivalent to passing `weights=None`.\n",
      "  warnings.warn(msg)\n",
      "1it [00:04,  4.37s/it]"
     ]
    },
    {
     "name": "stdout",
     "output_type": "stream",
     "text": [
      "Test Loss: 0.95920729637146\n"
     ]
    },
    {
     "name": "stderr",
     "output_type": "stream",
     "text": [
      "16it [00:55,  3.50s/it]"
     ]
    },
    {
     "name": "stdout",
     "output_type": "stream",
     "text": [
      "Accuracy: 64.64646464646465\n"
     ]
    },
    {
     "name": "stderr",
     "output_type": "stream",
     "text": [
      "\n"
     ]
    }
   ],
   "source": [
    "model = resnet18(pretrained=False)\n",
    "model.fc = nn.Linear(512, 3)\n",
    "\n",
    "optimizer = optim.Adam(model.parameters(), lr=0.001)\n",
    "criterion = nn.CrossEntropyLoss()\n",
    "scheduler = StepLR(optimizer, step_size=5, gamma=0.1)\n",
    "\n",
    "model.load_state_dict(torch.load(model_path/'resnet18_gray_29.pth',  map_location=torch.device(device)))\n",
    "\n",
    "trainer = Trainer(model, optimizer, criterion, scheduler, device)\n",
    "trainer.test(gray_test_loader)\n",
    "# print(model)"
   ]
  },
  {
   "cell_type": "code",
   "execution_count": 15,
   "metadata": {},
   "outputs": [
    {
     "name": "stderr",
     "output_type": "stream",
     "text": [
      "1it [00:03,  3.79s/it]"
     ]
    },
    {
     "name": "stdout",
     "output_type": "stream",
     "text": [
      "Test Loss: 0.961929440498352\n"
     ]
    },
    {
     "name": "stderr",
     "output_type": "stream",
     "text": [
      "16it [00:51,  3.22s/it]"
     ]
    },
    {
     "name": "stdout",
     "output_type": "stream",
     "text": [
      "Accuracy: 66.86868686868686\n"
     ]
    },
    {
     "name": "stderr",
     "output_type": "stream",
     "text": [
      "\n"
     ]
    }
   ],
   "source": [
    "model = resnet18(pretrained=False)\n",
    "model.fc = nn.Linear(512, 3)\n",
    "\n",
    "optimizer = optim.Adam(model.parameters(), lr=0.001)\n",
    "criterion = nn.CrossEntropyLoss()\n",
    "scheduler = StepLR(optimizer, step_size=5, gamma=0.1)\n",
    "\n",
    "model.load_state_dict(torch.load(model_path/'resnet18_rgb_25.pth',  map_location=torch.device(device)))\n",
    "\n",
    "trainer = Trainer(model, optimizer, criterion, scheduler, device)\n",
    "trainer.test(rgb_test_loader)"
   ]
  },
  {
   "cell_type": "code",
   "execution_count": 16,
   "metadata": {},
   "outputs": [
    {
     "name": "stderr",
     "output_type": "stream",
     "text": [
      "1it [00:03,  3.86s/it]"
     ]
    },
    {
     "name": "stdout",
     "output_type": "stream",
     "text": [
      "Test Loss: 0.8658714294433594\n"
     ]
    },
    {
     "name": "stderr",
     "output_type": "stream",
     "text": [
      "16it [00:50,  3.15s/it]"
     ]
    },
    {
     "name": "stdout",
     "output_type": "stream",
     "text": [
      "Accuracy: 63.03030303030303\n"
     ]
    },
    {
     "name": "stderr",
     "output_type": "stream",
     "text": [
      "\n"
     ]
    }
   ],
   "source": [
    "model = resnet18(pretrained=False)\n",
    "model.fc = nn.Linear(512, 3)\n",
    "\n",
    "optimizer = optim.Adam(model.parameters(), lr=0.001)\n",
    "criterion = nn.CrossEntropyLoss()\n",
    "scheduler = StepLR(optimizer, step_size=5, gamma=0.1)\n",
    "\n",
    "model.load_state_dict(torch.load(model_path/'resnet18_hsv_46.pth',  map_location=torch.device(device)))\n",
    "\n",
    "trainer = Trainer(model, optimizer, criterion, scheduler, device)\n",
    "trainer.test(hsv_test_loader)"
   ]
  },
  {
   "cell_type": "code",
   "execution_count": 17,
   "metadata": {},
   "outputs": [
    {
     "name": "stderr",
     "output_type": "stream",
     "text": [
      "1it [00:04,  4.02s/it]"
     ]
    },
    {
     "name": "stdout",
     "output_type": "stream",
     "text": [
      "Test Loss: 0.7498617768287659\n"
     ]
    },
    {
     "name": "stderr",
     "output_type": "stream",
     "text": [
      "16it [00:50,  3.13s/it]"
     ]
    },
    {
     "name": "stdout",
     "output_type": "stream",
     "text": [
      "Accuracy: 64.24242424242425\n"
     ]
    },
    {
     "name": "stderr",
     "output_type": "stream",
     "text": [
      "\n"
     ]
    }
   ],
   "source": [
    "model = resnet18(pretrained=False)\n",
    "model.fc = nn.Linear(512, 3)\n",
    "\n",
    "optimizer = optim.Adam(model.parameters(), lr=0.001)\n",
    "criterion = nn.CrossEntropyLoss()\n",
    "scheduler = StepLR(optimizer, step_size=5, gamma=0.1)\n",
    "\n",
    "model.load_state_dict(torch.load(model_path/'resnet18_lab_37.pth',  map_location=torch.device(device)))\n",
    "\n",
    "trainer = Trainer(model, optimizer, criterion, scheduler, device)\n",
    "trainer.test(lab_test_loader)"
   ]
  },
  {
   "cell_type": "markdown",
   "metadata": {},
   "source": [
    "# Bi-FPN"
   ]
  },
  {
   "cell_type": "markdown",
   "metadata": {},
   "source": [
    "This model is very memory intensive, so smaller batch sizes have to be used. Please refrain from running this on CPU.\n",
    "GBs of memory required = batch_size * 1 GB"
   ]
  },
  {
   "cell_type": "code",
   "execution_count": 23,
   "metadata": {},
   "outputs": [],
   "source": [
    "from efficientdet.model import BiFPN\n",
    "from efficientnet_pytorch.efficientnet import EfficientNet_Head\n",
    "from efficientdet.utils import Anchors"
   ]
  },
  {
   "cell_type": "code",
   "execution_count": 44,
   "metadata": {},
   "outputs": [],
   "source": [
    "batch_size = 8\n",
    "num_workers = 4"
   ]
  },
  {
   "cell_type": "code",
   "execution_count": 19,
   "metadata": {},
   "outputs": [],
   "source": [
    "\n",
    "class FFTDataset(Dataset):\n",
    "    def __init__(self, data, transforms = None):\n",
    "        self.folder_names = ['carrying', 'threat', 'normal']\n",
    "        self.data = data\n",
    "        self.transforms = transforms\n",
    "\n",
    "    def __getitem__(self, idx):\n",
    "        #         im_path = self.path[idx]\n",
    "        #         label = self.path[idx].split('/')[-3]\n",
    "        #         label = 1 if label == 'real' else 0\n",
    "        data = self.data[idx]\n",
    "        label = self.folder_names.index(data.parent.name)\n",
    "        img = cv2.imread(str(data))\n",
    "        ft_sample = self.generate_FT(img)\n",
    "        ft_sample = cv2.resize(ft_sample, (80, 80))\n",
    "        ft_sample = torch.from_numpy(ft_sample).float()\n",
    "        ft_sample = torch.unsqueeze(ft_sample, 0)\n",
    "        img = cv2.resize(img, (512, 512))\n",
    "        if self.transforms:\n",
    "            img = self.transforms(img)\n",
    "#             im = np.round(im, 2)\n",
    "        return img, label, ft_sample\n",
    "\n",
    "    def generate_FT(self, image):\n",
    "        image = cv2.cvtColor(image, cv2.COLOR_BGR2GRAY)\n",
    "        f = np.fft.fft2(image)\n",
    "        fshift = np.fft.fftshift(f)\n",
    "        fimg = np.log(np.abs(fshift)+1)\n",
    "        maxx = -1\n",
    "        minn = 100000\n",
    "        for i in range(len(fimg)):\n",
    "            if maxx < max(fimg[i]):\n",
    "                maxx = max(fimg[i])\n",
    "            if minn > min(fimg[i]):\n",
    "                minn = min(fimg[i])\n",
    "        fimg = (fimg - minn+1) / (maxx - minn+1)\n",
    "        return fimg\n",
    "\n",
    "    def __len__(self):\n",
    "        return len(self.data)\n",
    "\n",
    "\n",
    "class FFTDataset(Dataset):\n",
    "    def __init__(self, data, transforms = None):\n",
    "        self.folder_names = ['carrying', 'threat', 'normal']\n",
    "        self.data = data\n",
    "        self.transforms = transforms\n",
    "\n",
    "    def __getitem__(self, idx):\n",
    "        #         im_path = self.path[idx]\n",
    "        #         label = self.path[idx].split('/')[-3]\n",
    "        #         label = 1 if label == 'real' else 0\n",
    "        data = self.data[idx]\n",
    "        label = self.folder_names.index(data.parent.name)\n",
    "        img = cv2.imread(str(data))\n",
    "        ft_sample = self.generate_FT(img)\n",
    "        ft_sample = cv2.resize(ft_sample, (80, 80))\n",
    "        ft_sample = torch.from_numpy(ft_sample).float()\n",
    "        ft_sample = torch.unsqueeze(ft_sample, 0)\n",
    "        img = cv2.resize(img, (512, 512))\n",
    "        if self.transforms:\n",
    "            img = self.transforms(img)\n",
    "#             im = np.round(im, 2)\n",
    "        return img, label, ft_sample\n",
    "\n",
    "    def generate_FT(self, image):\n",
    "        image = cv2.cvtColor(image, cv2.COLOR_BGR2GRAY)\n",
    "        f = np.fft.fft2(image)\n",
    "        fshift = np.fft.fftshift(f)\n",
    "        fimg = np.log(np.abs(fshift)+1)\n",
    "        maxx = -1\n",
    "        minn = 100000\n",
    "        for i in range(len(fimg)):\n",
    "            if maxx < max(fimg[i]):\n",
    "                maxx = max(fimg[i])\n",
    "            if minn > min(fimg[i]):\n",
    "                minn = min(fimg[i])\n",
    "        fimg = (fimg - minn+1) / (maxx - minn+1)\n",
    "        return fimg\n",
    "\n",
    "    def __len__(self):\n",
    "        return len(self.data)"
   ]
  },
  {
   "cell_type": "code",
   "execution_count": 36,
   "metadata": {},
   "outputs": [],
   "source": [
    "\n",
    "test_transforms = T.Compose([\n",
    "    T.ToPILImage(),\n",
    "    # T.Resize((224, 224)),\n",
    "    T.ToTensor(),\n",
    "    T.Normalize([0.485, 0.456, 0.406], [0.229, 0.224, 0.225])\n",
    "])\n",
    "\n",
    "transforms = {\n",
    "    'test': test_transforms\n",
    "}\n",
    "test_dataset = FFTDataset(\n",
    "        test_data, transforms=transforms['test'])\n",
    "test_loader = DataLoader(test_dataset, batch_size=batch_size,\n",
    "                             num_workers=num_workers, pin_memory=True, shuffle=True)"
   ]
  },
  {
   "cell_type": "code",
   "execution_count": 37,
   "metadata": {},
   "outputs": [],
   "source": [
    "# Self-supervised learning\n",
    "class FTGen_1(nn.Module):\n",
    "    def __init__(self, in_channels=64, out_channels=1):\n",
    "        super(FTGen_1, self).__init__()\n",
    "        self.ft = nn.Sequential(\n",
    "            nn.Conv2d(in_channels, 128, kernel_size=(3, 3), padding=1),\n",
    "            nn.BatchNorm2d(128),\n",
    "            nn.ReLU(inplace=True),\n",
    "            nn.Conv2d(128, 64, kernel_size=(3, 3), padding=1),\n",
    "            nn.BatchNorm2d(64),\n",
    "            nn.ReLU(inplace=True),\n",
    "            nn.Conv2d(64, out_channels, kernel_size=(3, 3), padding=1),\n",
    "            nn.BatchNorm2d(out_channels),\n",
    "            nn.ReLU(inplace=True)\n",
    "        )\n",
    "    def forward(self, x):\n",
    "        return self.ft(x)"
   ]
  },
  {
   "cell_type": "markdown",
   "metadata": {},
   "source": [
    "### Improved Bi-FPN Model"
   ]
  },
  {
   "cell_type": "code",
   "execution_count": 38,
   "metadata": {},
   "outputs": [],
   "source": [
    "class FourierBiFPN(nn.Module):\n",
    "    def __init__(self, num_classes=3, compound_coef=0, load_weights=False, **kwargs):\n",
    "        super(FourierBiFPN, self).__init__()\n",
    "        \n",
    "        self.compound_coef = compound_coef\n",
    "        self.backbone_compound_coef = [0, 1, 2, 3, 4, 5, 6, 6]\n",
    "        self.fpn_num_filters = [64, 88, 112, 160, 224, 288, 384, 384]\n",
    "        self.fpn_cell_repeats = [3, 4, 5, 6, 7, 7, 8, 8]\n",
    "        self.input_sizes = [512, 640, 768, 896, 1024, 1280, 1280, 1536]\n",
    "        self.box_class_repeats = [3, 3, 3, 4, 4, 4, 5, 5]\n",
    "        self.anchor_scale = [4., 4., 4., 4., 4., 4., 4., 5.]\n",
    "        self.aspect_ratios = kwargs.get('ratios', [(1.0, 1.0), (1.4, 0.7), (0.7, 1.4)])\n",
    "        self.num_scales = len(kwargs.get('scales', [2 ** 0, 2 ** (1.0 / 3.0), 2 ** (2.0 / 3.0)]))\n",
    "        \n",
    "        conv_channel_coef = {\n",
    "            # the channels of P3/P4/P5.\n",
    "            0: [40, 112, 320],\n",
    "            1: [40, 112, 320],\n",
    "            2: [48, 120, 352],\n",
    "            3: [48, 136, 384],\n",
    "            4: [56, 160, 448],\n",
    "            5: [64, 176, 512],\n",
    "            6: [72, 200, 576],\n",
    "            7: [72, 200, 576],\n",
    "        }\n",
    "\n",
    "        num_anchors = len(self.aspect_ratios) * self.num_scales\n",
    "        self.ftg1 = FTGen_1()\n",
    "        self.upsample1 = nn.Upsample(size=(80, 80), mode=\"nearest\")\n",
    "        self.bifpn = nn.Sequential(\n",
    "            *[BiFPN(self.fpn_num_filters[self.compound_coef],\n",
    "                    conv_channel_coef[compound_coef],\n",
    "                    True if _ == 0 else False,\n",
    "                    attention=True if compound_coef < 6 else False)\n",
    "              for _ in range(self.fpn_cell_repeats[compound_coef])])\n",
    "        self.backbone_net = EfficientNet_Head(compound_coef=self.backbone_compound_coef[compound_coef])\n",
    "        # Novelty\n",
    "        self.p3_fc = nn.Linear(16384, 4096)\n",
    "        self.p4_fc = nn.Linear(4096, 1024)\n",
    "        self.final_fc = nn.Sequential(*[nn.Linear(1024, 256), nn.Linear(256, 3)])\n",
    "    \n",
    "    def forward(self, inputs):\n",
    "        max_size = inputs.shape[-1]\n",
    "        _, p3, p4, p5 = self.backbone_net(inputs)\n",
    "        features = (p3, p4, p5)\n",
    "        features = self.bifpn(features)\n",
    "        \n",
    "        p1,p2,p3,p4,p5 = features\n",
    "        \n",
    "        p3_f = nn.ReLU()(p3)\n",
    "        p3_f = self.upsample1(p3_f)\n",
    "        \n",
    "        p4_f = nn.ReLU()(p4)\n",
    "        p4_f = self.upsample1(p4_f)\n",
    "        \n",
    "        p5_f = nn.ReLU()(p5)\n",
    "        p5_f = self.upsample1(p5_f)\n",
    "        \n",
    "        ft_3 = self.ftg1(p3_f)\n",
    "        ft_4 = self.ftg1(p4_f)\n",
    "        ft_5 = self.ftg1(p5_f)\n",
    "        \n",
    "        p3 = p3.reshape(p3.shape[0], -1)\n",
    "        p4 = p4.reshape(p4.shape[0], -1)\n",
    "        p5 = p5.reshape(p5.shape[0], -1)\n",
    "        \n",
    "        # Novelty\n",
    "        \n",
    "        p3 = self.p3_fc(p3)\n",
    "        p4 = self.p4_fc(p4)\n",
    "        pt = p3 + p4 + p5\n",
    "        \n",
    "        out = self.final_fc(pt)\n",
    "        \n",
    "        return out, ft_3, ft_4, ft_5"
   ]
  },
  {
   "cell_type": "code",
   "execution_count": 39,
   "metadata": {},
   "outputs": [],
   "source": [
    "from torch.autograd import Variable\n",
    "\n",
    "def compute_loss(network, img, labels, ft_feat, logger, phase, device):\n",
    "    \"\"\"\n",
    "    Compute the losses, given the network, data and labels and \n",
    "    device in which the computation will be performed. \n",
    "    \"\"\"\n",
    "    # loss definitions\n",
    "    criterion_ce = nn.CrossEntropyLoss()\n",
    "    criterion_mse = nn.MSELoss()\n",
    "    ft_feat = Variable(ft_feat.to(device))\n",
    "    # print('labels', labels.shape, labels)\n",
    "    y_one_hot = nn.functional.one_hot(labels, num_classes= 3).to(device).float()\n",
    "    # print('labels', labels.shape, labels)\n",
    "\n",
    "    out, ft_3, ft_4, ft_5 = network(img.to(device))\n",
    "    _, predicted = torch.max(out.data, 1)\n",
    "\n",
    "    # preds = torch.argmax(out, dim=1)\n",
    "    # print(predicted)\n",
    "    # print(out.shape, preds.shape, labels.shape)\n",
    "    acc = float((predicted.cpu() == labels).sum())/float(out.shape[0])\n",
    "    # print(preds, labelsv_binary, preds)\n",
    "    \n",
    "    loss1 = criterion_ce(out, y_one_hot)\n",
    "    loss2 = criterion_mse(ft_3, ft_feat)\n",
    "    loss3 = criterion_mse(ft_4, ft_feat)\n",
    "    loss4 = criterion_mse(ft_5, ft_feat)\n",
    "    \n",
    "    \n",
    "    loss_temp = (loss2 + loss3 + loss4)/3.0\n",
    "    \n",
    "    loss = 0.5 * loss1 + 0.5 * (loss_temp)\n",
    "    return loss, acc, predicted.cpu()"
   ]
  },
  {
   "cell_type": "code",
   "execution_count": 40,
   "metadata": {},
   "outputs": [],
   "source": [
    "import copy\n",
    "import os\n",
    "import time\n",
    "import numpy as np\n",
    "import torch\n",
    "import torch.nn as nn\n",
    "from torch.utils.tensorboard import SummaryWriter\n",
    "from tqdm.notebook import tqdm \n",
    "from pathlib import Path\n",
    "\n",
    "class Trainer(object):\n",
    "\n",
    "    def __init__(self, network, optimizer, compute_loss, learning_rate=0.001, batch_size=32,\n",
    "                 device='cpu', save_interval=2, save_path=''):\n",
    "\n",
    "        self.network = network\n",
    "        self.batch_size = batch_size\n",
    "        self.optimizer = optimizer\n",
    "        self.compute_loss = compute_loss\n",
    "        self.device = device\n",
    "        self.learning_rate = learning_rate\n",
    "        self.save_interval = save_interval\n",
    "        self.save_path = save_path\n",
    "        self.network.to(self.device)\n",
    "        \n",
    "#         if torch.cuda.device_count() > 1:\n",
    "#             self.network = nn.DataParallel(self.network, device_ids=[0]).cuda()\n",
    "\n",
    "    def load_model(self, model_filename):\n",
    "\n",
    "        cp = torch.load(model_filename)\n",
    "        self.network.load_state_dict(cp['state_dict'])\n",
    "        start_epoch = cp['epoch']\n",
    "        start_iter = cp['iteration']\n",
    "        losses = cp['loss']\n",
    "        return start_epoch, start_iter, losses\n",
    "\n",
    "    def save_model(self, output_dir, epoch=0, iteration=0, losses=None, accuracy=None):\n",
    "   \n",
    "        saved_filename = 'model_{}_{}.pth'.format(epoch, iteration)\n",
    "        output_dir = Path(output_dir)\n",
    "        output_dir.mkdir(parents=True, exist_ok=True)\n",
    "        saved_path = output_dir / saved_filename\n",
    "        cp = {'epoch': epoch,\n",
    "              'iteration': iteration,\n",
    "              'loss': losses,\n",
    "              'state_dict': self.network.cpu().state_dict()\n",
    "              }\n",
    "        torch.save(cp, saved_path)\n",
    "        self.network.to(self.device)\n",
    "\n",
    "    def test(self, dataloader):\n",
    "    \n",
    "        start_iter = 0\n",
    "        losses = []\n",
    "        val_loss_history = []\n",
    "\n",
    "        \n",
    "        val_acc_history = []\n",
    "        for phase in ['val']:\t\n",
    "            self.network.eval() \n",
    "            tq = tqdm(dataloader[phase])\n",
    "            for i, data in enumerate(tq):\n",
    "                if i >= start_iter:\n",
    "                    start = time.time()\n",
    "                    img, labels, ft_feat = data\n",
    "                    self.optimizer.zero_grad()\n",
    "                    with torch.set_grad_enabled(phase == 'train'):\n",
    "                        loss, acc, ft_preds = self.compute_loss(\n",
    "                            self.network, img, labels, ft_feat, self.writer, phase, self.device)\n",
    "                        val_loss_history.append(loss.item())\n",
    "                        val_acc_history.append(acc)\n",
    "                        end = time.time()\n",
    "                    print(\n",
    "                        f\"[{1}/{1}][{i}/{len(dataloader[phase])}] => LOSS: {loss.item()}, ACC: {acc}, (ELAPSED TIME: {(end - start)}), PHASE: {phase}\")\n",
    "                    tq.set_postfix(LOSS=loss.item(), ACC=acc, MODEL_PRED=ft_preds)\n",
    "                    losses.append(loss.item())\n",
    "        epoch_val_loss = np.mean(val_loss_history)\n",
    "        epoch_val_acc = np.mean(val_acc_history)\n",
    "            \n",
    "        print(f\"TEST LOSS: {epoch_val_loss}, ACC: {epoch_val_acc}\")\n",
    "\n",
    "        print(f\"EPOCH DONE\")"
   ]
  },
  {
   "cell_type": "code",
   "execution_count": 41,
   "metadata": {},
   "outputs": [
    {
     "name": "stdout",
     "output_type": "stream",
     "text": [
      "Loaded pretrained weights for efficientnet-b0\n"
     ]
    }
   ],
   "source": [
    "gpus = [0]\n",
    "network = FourierBiFPN()\n",
    "# if torch.cuda.device_count() > 1:\n",
    "#     network = nn.DataParallel(network, device_ids=gpus).cuda(gpus[0])\n",
    "\n",
    "for name, param in network.named_parameters():\n",
    "    param.requires_grad = True\n",
    "\n",
    "learning_rate = 0.001\n",
    "weight_decay = 0.00001\n",
    "optimizer = optim.Adam(filter(lambda p: p.requires_grad, network.parameters()), \n",
    "                        lr=learning_rate, weight_decay=weight_decay)\n",
    "                        \n",
    "dataloaders = {'val': test_loader}"
   ]
  },
  {
   "cell_type": "code",
   "execution_count": 45,
   "metadata": {},
   "outputs": [
    {
     "name": "stdout",
     "output_type": "stream",
     "text": [
      "dict_keys(['epoch', 'iteration', 'loss', 'state_dict'])\n"
     ]
    }
   ],
   "source": [
    "# load_dict = torch.load(model_path / 'bifpn_new_model.pth')\n",
    "# print(load_dict.keys())"
   ]
  },
  {
   "cell_type": "code",
   "execution_count": null,
   "metadata": {},
   "outputs": [],
   "source": [
    "trainer = Trainer(network, optimizer, compute_loss, learning_rate=learning_rate,\n",
    "                      batch_size=batch_size, device=f'cuda:{gpus[0]}' if torch.cuda.is_available() else 'cpu')\n",
    "trainer.load_model(model_path / 'bifpn_new_model.pth')\n",
    "\n",
    "trainer.test(dataloaders)"
   ]
  },
  {
   "cell_type": "markdown",
   "metadata": {},
   "source": [
    "### Old Bi-FPN Model"
   ]
  },
  {
   "cell_type": "code",
   "execution_count": 48,
   "metadata": {},
   "outputs": [],
   "source": [
    "class OldFourierBiFPN(nn.Module):\n",
    "    def __init__(self, num_classes=3, compound_coef=0, load_weights=False, **kwargs):\n",
    "        super(OldFourierBiFPN, self).__init__()\n",
    "        \n",
    "        self.compound_coef = compound_coef\n",
    "        self.backbone_compound_coef = [0, 1, 2, 3, 4, 5, 6, 6]\n",
    "        self.fpn_num_filters = [64, 88, 112, 160, 224, 288, 384, 384]\n",
    "        self.fpn_cell_repeats = [3, 4, 5, 6, 7, 7, 8, 8]\n",
    "        self.input_sizes = [512, 640, 768, 896, 1024, 1280, 1280, 1536]\n",
    "        self.box_class_repeats = [3, 3, 3, 4, 4, 4, 5, 5]\n",
    "        self.anchor_scale = [4., 4., 4., 4., 4., 4., 4., 5.]\n",
    "        self.aspect_ratios = kwargs.get('ratios', [(1.0, 1.0), (1.4, 0.7), (0.7, 1.4)])\n",
    "        self.num_scales = len(kwargs.get('scales', [2 ** 0, 2 ** (1.0 / 3.0), 2 ** (2.0 / 3.0)]))\n",
    "        \n",
    "        conv_channel_coef = {\n",
    "            # the channels of P3/P4/P5.\n",
    "            0: [40, 112, 320],\n",
    "            1: [40, 112, 320],\n",
    "            2: [48, 120, 352],\n",
    "            3: [48, 136, 384],\n",
    "            4: [56, 160, 448],\n",
    "            5: [64, 176, 512],\n",
    "            6: [72, 200, 576],\n",
    "            7: [72, 200, 576],\n",
    "        }\n",
    "\n",
    "        num_anchors = len(self.aspect_ratios) * self.num_scales\n",
    "        self.ftg1 = FTGen_1()\n",
    "        self.upsample1 = nn.Upsample(size=(80, 80), mode=\"nearest\")\n",
    "        self.bifpn = nn.Sequential(\n",
    "            *[BiFPN(self.fpn_num_filters[self.compound_coef],\n",
    "                    conv_channel_coef[compound_coef],\n",
    "                    True if _ == 0 else False,\n",
    "                    attention=True if compound_coef < 6 else False)\n",
    "              for _ in range(self.fpn_cell_repeats[compound_coef])])\n",
    "        self.backbone_net = EfficientNet_Head(compound_coef=self.backbone_compound_coef[compound_coef])\n",
    "    \n",
    "    def forward(self, inputs):\n",
    "        max_size = inputs.shape[-1]\n",
    "        _, p3, p4, p5 = self.backbone_net(inputs)\n",
    "        features = (p3, p4, p5)\n",
    "        features = self.bifpn(features)\n",
    "        \n",
    "        p1,p2,p3,p4,p5 = features\n",
    "        \n",
    "        p3_f = nn.ReLU()(p3)\n",
    "        p3_f = self.upsample1(p3_f)\n",
    "        \n",
    "        p4_f = nn.ReLU()(p4)\n",
    "        p4_f = self.upsample1(p4_f)\n",
    "        \n",
    "        p5_f = nn.ReLU()(p5)\n",
    "        p5_f = self.upsample1(p5_f)\n",
    "        \n",
    "        ft_3 = self.ftg1(p3_f)\n",
    "        ft_4 = self.ftg1(p4_f)\n",
    "        ft_5 = self.ftg1(p5_f)\n",
    "        \n",
    "        p3 = p3.reshape(p3.shape[0], -1)\n",
    "        p4 = p4.reshape(p4.shape[0], -1)\n",
    "        p5 = p5.reshape(p5.shape[0], -1)\n",
    "\n",
    "        # PRIOR MODEL STRUCTURE\n",
    "        \n",
    "        p3 = torch.sigmoid(p3).mean(dim=1)\n",
    "        p4 = torch.sigmoid(p4).mean(dim=1)\n",
    "        p5 = torch.sigmoid(p5).mean(dim=1)\n",
    "        # print(p3.shape, p4.shape, p5.shape)\n",
    "        out = torch.stack((p3, p4, p5), dim=1) # .mean(dim=1)\n",
    "        # print(out.shape)\n",
    "        out = nn.functional.softmax(out, dim=1)\n",
    "        # print(out.shape)\n",
    "        \n",
    "        return out, ft_3, ft_4, ft_5"
   ]
  },
  {
   "cell_type": "code",
   "execution_count": 49,
   "metadata": {},
   "outputs": [
    {
     "name": "stdout",
     "output_type": "stream",
     "text": [
      "dict_keys(['epoch', 'iteration', 'loss', 'state_dict'])\n"
     ]
    }
   ],
   "source": [
    "load_dict = torch.load(model_path / 'bifpn_old_model.pth')\n",
    "print(load_dict.keys())"
   ]
  },
  {
   "cell_type": "code",
   "execution_count": null,
   "metadata": {},
   "outputs": [],
   "source": [
    "network = OldFourierBiFPN()\n",
    "\n",
    "for name, param in network.named_parameters():\n",
    "    param.requires_grad = True\n",
    "\n",
    "optimizer = optim.Adam(filter(lambda p: p.requires_grad, network.parameters()), \n",
    "                        lr=learning_rate, weight_decay=weight_decay)\n",
    "\n",
    "trainer = Trainer(network, optimizer, compute_loss, learning_rate=learning_rate,\n",
    "                      batch_size=batch_size, device=f'cuda:{gpus[0]}' if torch.cuda.is_available() else 'cpu')\n",
    "trainer.load_model(model_path / 'bifpn_old_model.pth')\n",
    "\n",
    "trainer.test(dataloaders)"
   ]
  },
  {
   "cell_type": "code",
   "execution_count": null,
   "metadata": {},
   "outputs": [],
   "source": []
  }
 ],
 "metadata": {
  "kernelspec": {
   "display_name": "Python 3.9.13 ('Vision')",
   "language": "python",
   "name": "python3"
  },
  "language_info": {
   "codemirror_mode": {
    "name": "ipython",
    "version": 3
   },
   "file_extension": ".py",
   "mimetype": "text/x-python",
   "name": "python",
   "nbconvert_exporter": "python",
   "pygments_lexer": "ipython3",
   "version": "3.9.13"
  },
  "orig_nbformat": 4,
  "vscode": {
   "interpreter": {
    "hash": "fa38dedfb6664aa993a6ecbbad1c80b49362dc7a9b41f4096b0f17f364f944d3"
   }
  }
 },
 "nbformat": 4,
 "nbformat_minor": 2
}
